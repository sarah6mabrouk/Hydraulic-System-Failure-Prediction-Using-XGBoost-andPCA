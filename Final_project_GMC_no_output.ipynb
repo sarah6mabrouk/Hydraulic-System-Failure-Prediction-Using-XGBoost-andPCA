{
  "cells": [
    {
      "cell_type": "markdown",
      "source": [
        "dataset overview:\n",
        "https://docs.google.com/spreadsheets/d/1i7yo5EyNLufX7pdaD8MojHWJcg5f3haX2PtrOGtO-io/edit?usp=sharing"
      ],
      "metadata": {
        "id": "3c4ohQ6Mckaf"
      }
    },
    {
      "cell_type": "code",
      "execution_count": null,
      "metadata": {
        "id": "eh9OJW_UkzAn"
      },
      "outputs": [],
      "source": [
        "# @title\n",
        "!pip install ydata-profiling"
      ]
    },
    {
      "cell_type": "code",
      "execution_count": null,
      "metadata": {
        "id": "1B1w3Z-mN3cW"
      },
      "outputs": [],
      "source": [
        "import numpy as np\n",
        "import pandas as pd\n",
        "import statistics\n",
        "import seaborn as sns\n",
        "import matplotlib.pyplot as plt\n",
        "from scipy.stats import skew, kurtosis\n",
        "from scipy.fft import rfft, rfftfreq\n",
        "import gzip\n",
        "from sklearn.preprocessing import StandardScaler\n",
        "import warnings\n",
        "\n",
        "#suppress all warnings\n",
        "warnings.filterwarnings(\"ignore\")"
      ]
    },
    {
      "cell_type": "markdown",
      "metadata": {
        "id": "Cow5DzGJmuaF"
      },
      "source": [
        "Attribute information (sensor data)\n",
        "\n",
        "- **Pressure sensors** \tPS\n",
        "\n",
        "- **motor power sensor**\tEPS\n",
        "\n",
        "- **volume flow sensors**\tFS\n",
        "\n",
        "- **temperature sensors**\tTS\n",
        "\n",
        "- **vibration sensor**\tVS\n",
        "\n",
        "- **efficiency factor**\tSE\n",
        "\n",
        "- **virtual cooling efficiency sensor**\tCE\n",
        "\n",
        "- **virtual cooling power sensor**\tCP"
      ]
    },
    {
      "cell_type": "code",
      "execution_count": null,
      "metadata": {
        "id": "gPrThp0MmrBk"
      },
      "outputs": [],
      "source": [
        "ps1= pd.read_csv(\"/content/drive/MyDrive/bootcamp GMC data science/Projects/final project/final project/predictive-maintenance/datasets/hydsys/PS1.txt.gz\", delimiter =\"\\t\", header = None)\n",
        "ps1"
      ]
    },
    {
      "cell_type": "code",
      "execution_count": null,
      "metadata": {
        "id": "0OC8g3_WpsWv"
      },
      "outputs": [],
      "source": [
        "ps1 = ps1.astype(float)  # Converts numbers stored as strings to float"
      ]
    },
    {
      "cell_type": "code",
      "execution_count": null,
      "metadata": {
        "id": "zTyk0yoJp3Dn"
      },
      "outputs": [],
      "source": [
        "ps1.describe()"
      ]
    },
    {
      "cell_type": "code",
      "execution_count": null,
      "metadata": {
        "id": "T4FPllmlqomf"
      },
      "outputs": [],
      "source": [
        "ps1_stats = pd.DataFrame({\n",
        "    \"Min\": ps1.min(axis=1),\n",
        "    \"Count_min\": ps1.eq(ps1.min(axis=1), axis = 0).sum(axis = 1),\n",
        "    \"Max\": ps1.max(axis=1),\n",
        "    \"Count_max\": ps1.eq(ps1.max(axis=1), axis = 0).sum(axis = 1),\n",
        "    \"Median\": ps1.median(axis=1),\n",
        "    \"Count_median\": ps1.eq(ps1.median(axis=1), axis = 0).sum(axis = 1),\n",
        "    \"Mean\": ps1.mean(axis=1)\n",
        "\n",
        "})\n",
        "\n",
        "ps1_stats"
      ]
    },
    {
      "cell_type": "markdown",
      "metadata": {
        "id": "w7ZaKeeYq7nj"
      },
      "source": [
        "Because values of the mean for each cycle (out of the 2205 cycles) can differ greatly, we'll measure not only the mean for each feature/time-series sensor but also calculate:\n",
        "1. **Central Tendency** : mean, median → captures general level\n",
        "2. **spread** : std, variance, range (min-max) → shows how volatile the signal is\n",
        "3. **Shape**: skewness, kurtosis → signal symmetry/peakedness\n",
        "4. **Extremes** : min, max, quantiles (25%, 75%) → important for thresholds or peaks\n",
        "5. **Signal Energy**: sum of squares, signal power → captures how strong/active the signal is\n",
        "6. **Frequency Domain** : top frequencies via FFT → recurring patterns\n",
        "\n",
        "\n",
        "Which make around 12 descriptive features for each component, therefore instead of 6000 columns per component we'll have :\n",
        "\n",
        "17 (time-series sensors/component) * 12 (features) = **204 columns**\n",
        "\n",
        "and one target column, in this case i chose to work with Internal Pump Leakage (unity : number of leakages)\n",
        "\n",
        "\n",
        "After having 204 columns we'll  run try dimensionality reduction methods (PCA, or correlation analysis) in order to lower the number of columns even more for a cleaner study.\n",
        "\n",
        "\n",
        "----------------------------------------------------------------\n",
        "\n",
        "so far we have these features/ time-series sensors :\n",
        "- **100 Hz (6000 features/sensor):**\n",
        "    - 6 Pressure sensors (PS1–PS6)\n",
        "    - 1 Motor power sensor (EPS1)\n",
        "- **10 Hz (600 features/sensor):**\n",
        "    - 2 Volume flow sensors (FS1, FS2)\n",
        "- **1 Hz (60 features/sensor):**\n",
        "    - 4 Temperature sensors (TS1–TS4)\n",
        "    - 1 Vibration sensor (VS1)\n",
        "    - 1 Efficiency factor (SE)\n",
        "    - 1 Virtual cooling efficiency (CE)\n",
        "    - 1 Virtual cooling power (CP)\n",
        "\n",
        "# 1. Displaying the DataFrames\n",
        "1. Pressure Sensors PS(1-6)"
      ]
    },
    {
      "cell_type": "code",
      "execution_count": null,
      "metadata": {
        "id": "Mqs5hWJ_q5I4"
      },
      "outputs": [],
      "source": [
        "def load_sensor_file(file_path):\n",
        "    with gzip.open(file_path, 'rt') as f:\n",
        "        df = pd.read_csv(f, sep=\",\", header=None)\n",
        "        df = df[0].str.split('\\t', expand = True)\n",
        "        df = df.astype(float)\n",
        "\n",
        "    return df\n"
      ]
    },
    {
      "cell_type": "code",
      "execution_count": null,
      "metadata": {
        "id": "TD77OomarBeZ"
      },
      "outputs": [],
      "source": [
        "from IPython.display import display  # Import display for better output formatting\n",
        "PS1 = load_sensor_file(\"/content/drive/MyDrive/bootcamp GMC data science/Projects/final project/final project/predictive-maintenance/datasets/hydsys/PS1.txt.gz\")\n",
        "PS2 = load_sensor_file(\"/content/drive/MyDrive/bootcamp GMC data science/Projects/final project/final project/predictive-maintenance/datasets/hydsys/PS2.txt.gz\")\n",
        "PS3 = load_sensor_file(\"/content/drive/MyDrive/bootcamp GMC data science/Projects/final project/final project/predictive-maintenance/datasets/hydsys/PS3.txt.gz\")\n",
        "PS4 = load_sensor_file(\"/content/drive/MyDrive/bootcamp GMC data science/Projects/final project/final project/predictive-maintenance/datasets/hydsys/PS4.txt.gz\")\n",
        "PS5 = load_sensor_file(\"/content/drive/MyDrive/bootcamp GMC data science/Projects/final project/final project/predictive-maintenance/datasets/hydsys/PS5.txt.gz\")\n",
        "PS6 = load_sensor_file(\"/content/drive/MyDrive/bootcamp GMC data science/Projects/final project/final project/predictive-maintenance/datasets/hydsys/PS6.txt.gz\")\n",
        "\n",
        "print(\"DataFrame :PS1\")\n",
        "display(PS1)\n",
        "print(\"DataFrame :PS2\")\n",
        "display(PS2)\n",
        "print(\"DataFrame :PS3\")\n",
        "display(PS3)\n",
        "print(\"DataFrame :PS4\")\n",
        "display(PS4)\n",
        "print(\"DataFrame :PS5\")\n",
        "display(PS5)\n",
        "print(\"DataFrame :PS6\")\n",
        "display(PS6)"
      ]
    },
    {
      "cell_type": "markdown",
      "metadata": {
        "id": "dQPwHexosDCc"
      },
      "source": [
        "2. Motor Power Sensor(EPS1)"
      ]
    },
    {
      "cell_type": "code",
      "execution_count": null,
      "metadata": {
        "id": "iCD9ArbdrD0r"
      },
      "outputs": [],
      "source": [
        "EPS1 = load_sensor_file(\"/content/drive/MyDrive/bootcamp GMC data science/Projects/final project/final project/predictive-maintenance/datasets/hydsys/EPS1.txt.gz\")\n",
        "print(\"EPS1\")\n",
        "EPS1"
      ]
    },
    {
      "cell_type": "markdown",
      "metadata": {
        "id": "EMWvtz4nsVFd"
      },
      "source": [
        "3. Volume Flow  Sensors FS(2)"
      ]
    },
    {
      "cell_type": "code",
      "execution_count": null,
      "metadata": {
        "id": "B5szPwSssPA5"
      },
      "outputs": [],
      "source": [
        "FS1 = load_sensor_file(\"/content/drive/MyDrive/bootcamp GMC data science/Projects/final project/final project/predictive-maintenance/datasets/hydsys/FS1.txt.gz\")\n",
        "FS2 = load_sensor_file(\"/content/drive/MyDrive/bootcamp GMC data science/Projects/final project/final project/predictive-maintenance/datasets/hydsys/FS2.txt.gz\")\n",
        "print('FS1')\n",
        "display(FS1)\n",
        "print('FS2')\n",
        "display(FS2)"
      ]
    },
    {
      "cell_type": "markdown",
      "metadata": {
        "id": "URe4sH0HslvI"
      },
      "source": [
        "4. Temperature Sensors: TS(1-4)"
      ]
    },
    {
      "cell_type": "code",
      "execution_count": null,
      "metadata": {
        "id": "9vv46kpHsWqb"
      },
      "outputs": [],
      "source": [
        "TS1 = load_sensor_file(\"/content/drive/MyDrive/bootcamp GMC data science/Projects/final project/final project/predictive-maintenance/datasets/hydsys/TS1.txt.gz\")\n",
        "TS2 = load_sensor_file(\"/content/drive/MyDrive/bootcamp GMC data science/Projects/final project/final project/predictive-maintenance/datasets/hydsys/TS2.txt.gz\")\n",
        "TS3 = load_sensor_file(\"/content/drive/MyDrive/bootcamp GMC data science/Projects/final project/final project/predictive-maintenance/datasets/hydsys/TS3.txt.gz\")\n",
        "TS4 = load_sensor_file(\"/content/drive/MyDrive/bootcamp GMC data science/Projects/final project/final project/predictive-maintenance/datasets/hydsys/TS4.txt.gz\")\n",
        "\n",
        "print(\"DataFrame :TS1\")\n",
        "display(TS1)\n",
        "print(\"DataFrame :TS2\")\n",
        "display(TS2)\n",
        "print(\"DataFrame :TS3\")\n",
        "display(TS3)\n",
        "print(\"DataFrame :TS4\")\n",
        "display(TS4)"
      ]
    },
    {
      "cell_type": "markdown",
      "metadata": {
        "id": "X5ChN63rs-qV"
      },
      "source": [
        "5. Vibration Sensor (VS1)"
      ]
    },
    {
      "cell_type": "code",
      "execution_count": null,
      "metadata": {
        "id": "eN1cM4K_s81b"
      },
      "outputs": [],
      "source": [
        "VS1 = load_sensor_file(\"/content/drive/MyDrive/bootcamp GMC data science/Projects/final project/final project/predictive-maintenance/datasets/hydsys/VS1.txt.gz\")\n",
        "VS1"
      ]
    },
    {
      "cell_type": "markdown",
      "metadata": {
        "id": "NdJNiO-WtIUR"
      },
      "source": [
        "6. Efficiency Factor  (SE1)"
      ]
    },
    {
      "cell_type": "code",
      "execution_count": null,
      "metadata": {
        "id": "JQ2CL1z5tGXF"
      },
      "outputs": [],
      "source": [
        "SE1 = load_sensor_file(\"/content/drive/MyDrive/bootcamp GMC data science/Projects/final project/final project/predictive-maintenance/datasets/hydsys/SE.txt.gz\")\n",
        "SE1"
      ]
    },
    {
      "cell_type": "markdown",
      "metadata": {
        "id": "WE-ruwONtSmc"
      },
      "source": [
        "7. Virtual Cooling Efficiency Sensor (CE1)"
      ]
    },
    {
      "cell_type": "code",
      "execution_count": null,
      "metadata": {
        "id": "Rio-l06ttPo4"
      },
      "outputs": [],
      "source": [
        "CE1= load_sensor_file(\"/content/drive/MyDrive/bootcamp GMC data science/Projects/final project/final project/predictive-maintenance/datasets/hydsys/CE.txt.gz\")\n",
        "CE1"
      ]
    },
    {
      "cell_type": "markdown",
      "metadata": {
        "id": "ASeD-KgetbFv"
      },
      "source": [
        "8. Virtual Cooling Power Sensor (CP1)"
      ]
    },
    {
      "cell_type": "code",
      "execution_count": null,
      "metadata": {
        "id": "NVqpikhQtZ75"
      },
      "outputs": [],
      "source": [
        "CP1 = load_sensor_file(\"/content/drive/MyDrive/bootcamp GMC data science/Projects/final project/final project/predictive-maintenance/datasets/hydsys/CP.txt.gz\")\n",
        "CP1"
      ]
    },
    {
      "cell_type": "markdown",
      "metadata": {
        "id": "2-MaE3jItvJB"
      },
      "source": [
        "# II. Data Cleaning and Preprocessing\n",
        "## 1. Define Feature Extraction Function"
      ]
    },
    {
      "cell_type": "code",
      "execution_count": null,
      "metadata": {
        "id": "aT5npAjYthie"
      },
      "outputs": [],
      "source": [
        "def extract_features(row, sampling_rate):\n",
        "    signal = np.array(row)\n",
        "    fft_vals = np.abs(rfft(signal))\n",
        "    fft_freqs = rfftfreq(len(signal), d=1/sampling_rate)\n",
        "    fft_peak_freq = fft_freqs[np.argmax(fft_vals)]\n",
        "    return pd.Series({\n",
        "        \"mean\" : np.mean(signal),\n",
        "        \"median\" : np.median(signal),\n",
        "        \"std\": np.std(signal),\n",
        "        \"min\": np.min(signal),\n",
        "        \"max\": np.max(signal),\n",
        "        \"range\": np.max(signal) - np.min(signal),\n",
        "        \"skewness\" : skew(signal),\n",
        "        \"kurtosis\": kurtosis(signal),\n",
        "        \"energy\": np.sum(signal**2),\n",
        "        \"abs_energy\": np.sum(np.abs(signal)**2),\n",
        "        \"fft_peak_freq\": fft_peak_freq,\n",
        "        \"fft_max_amplitude\": np.max(fft_vals)\n",
        "\n",
        "    })"
      ]
    },
    {
      "cell_type": "markdown",
      "metadata": {
        "id": "iNHqDns0t3Dh"
      },
      "source": [
        "NB: FFT shows you if your sensor data has repeating patterns (like vibrations), and how strong they are. Those patterns change when machines start to fail — and that’s super useful for predictive maintenance.\n",
        "\n",
        " We'll start with\n",
        "### 1. PS1"
      ]
    },
    {
      "cell_type": "code",
      "execution_count": null,
      "metadata": {
        "id": "YuSpZTJyt1qC"
      },
      "outputs": [],
      "source": [
        "#PS1, signal= 100hz\n",
        "PS1_features = PS1.apply(lambda row: extract_features(row, sampling_rate =100), axis = 1)\n",
        "PS1_features.columns = [f\"PS1_{col}\" for col in PS1_features.columns]"
      ]
    },
    {
      "cell_type": "code",
      "execution_count": null,
      "metadata": {
        "id": "okcvdsUot912"
      },
      "outputs": [],
      "source": [
        "PS1_features"
      ]
    },
    {
      "cell_type": "markdown",
      "metadata": {
        "id": "CAGCUupJuCrE"
      },
      "source": [
        "### 2.PS2"
      ]
    },
    {
      "cell_type": "code",
      "execution_count": null,
      "metadata": {
        "id": "x_w6FImuuAO-"
      },
      "outputs": [],
      "source": [
        "PS2_features = PS2.apply(lambda row: extract_features(row, sampling_rate=100), axis = 1)\n",
        "PS2_features.columns = [f\"PS2_{col}\" for col in PS2_features.columns]\n",
        "PS2_features"
      ]
    },
    {
      "cell_type": "markdown",
      "metadata": {
        "id": "gEKJGP4GuHu8"
      },
      "source": [
        "### 3. PS3"
      ]
    },
    {
      "cell_type": "code",
      "execution_count": null,
      "metadata": {
        "id": "2LzIewHBuExz"
      },
      "outputs": [],
      "source": [
        "PS3_features = PS3.apply(lambda row : extract_features(row, sampling_rate=100), axis = 1)\n",
        "PS3_features.columns = [f\"PS3_{col}\" for col in PS3_features.columns]\n",
        "PS3_features"
      ]
    },
    {
      "cell_type": "markdown",
      "metadata": {
        "id": "veWyq_NFuMdB"
      },
      "source": [
        "### 4. PS4"
      ]
    },
    {
      "cell_type": "code",
      "execution_count": null,
      "metadata": {
        "id": "DoUcMhwluKcV"
      },
      "outputs": [],
      "source": [
        "PS4_features = PS4.apply(lambda row: extract_features(row, sampling_rate = 100), axis = 1)\n",
        "PS4_features.columns = [f\"PS4_{col}\" for col in PS4_features.columns]\n",
        "PS4_features"
      ]
    },
    {
      "cell_type": "markdown",
      "metadata": {
        "id": "dJFX9a-auPdc"
      },
      "source": [
        "### 5. PS5"
      ]
    },
    {
      "cell_type": "code",
      "execution_count": null,
      "metadata": {
        "id": "rttaGu9guOh_"
      },
      "outputs": [],
      "source": [
        "PS5_features = PS5.apply(lambda row: extract_features(row, sampling_rate=100), axis =1)\n",
        "PS5_features.columns = [f\"PS5_{col}\" for col in PS5_features.columns]\n",
        "PS5_features"
      ]
    },
    {
      "cell_type": "markdown",
      "metadata": {
        "id": "rm18TDUiuT7z"
      },
      "source": [
        "###6.PS6"
      ]
    },
    {
      "cell_type": "code",
      "execution_count": null,
      "metadata": {
        "id": "wvgjSd_ZuS_m"
      },
      "outputs": [],
      "source": [
        "PS6_features = PS6.apply(lambda row: extract_features(row, sampling_rate=100) , axis = 1)\n",
        "PS6_features.columns = [f\"PS6_{col}\" for col in PS6_features.columns]\n",
        "PS6_features"
      ]
    },
    {
      "cell_type": "markdown",
      "metadata": {
        "id": "wC2m6lQRuYvG"
      },
      "source": [
        "We'll Treat Motor Power Sensor : EPS1"
      ]
    },
    {
      "cell_type": "code",
      "execution_count": null,
      "metadata": {
        "id": "dzFQeNqSuWRk"
      },
      "outputs": [],
      "source": [
        "EPS1_features = EPS1.apply(lambda row: extract_features(row, sampling_rate=100) , axis = 1)\n",
        "EPS1_features.columns = [f\"EPS1_{col}\" for col in EPS1_features.columns]\n",
        "EPS1_features"
      ]
    },
    {
      "cell_type": "markdown",
      "metadata": {
        "id": "-zKsWNfAucpe"
      },
      "source": [
        "Volume Flow Sensors: FS1 & FS2\n",
        "### 1. FS1"
      ]
    },
    {
      "cell_type": "code",
      "execution_count": null,
      "metadata": {
        "id": "DtTea7ASuax3"
      },
      "outputs": [],
      "source": [
        "FS1_features = FS1.apply(lambda row: extract_features(row, sampling_rate=10), axis = 1)\n",
        "FS1_features.columns = [f'FS1_{col}' for col in FS1_features.columns]\n",
        "FS1_features"
      ]
    },
    {
      "cell_type": "markdown",
      "metadata": {
        "id": "DSKioaYPugrn"
      },
      "source": [
        "### 2. FS2"
      ]
    },
    {
      "cell_type": "code",
      "execution_count": null,
      "metadata": {
        "id": "NZSwEkpjueZG"
      },
      "outputs": [],
      "source": [
        "FS2_features = FS2.apply(lambda row: extract_features(row, sampling_rate=10), axis = 1)\n",
        "FS2_features.columns = [f\"FS2_{col}\" for col in FS2_features.columns]\n",
        "FS2_features"
      ]
    },
    {
      "cell_type": "markdown",
      "metadata": {
        "id": "-e9CTnabuqRP"
      },
      "source": [
        "Temperature Sensors : TS (1--> 4)\n",
        "### 1. TS1"
      ]
    },
    {
      "cell_type": "code",
      "execution_count": null,
      "metadata": {
        "id": "t3o0tAMMuib7"
      },
      "outputs": [],
      "source": [
        "TS1_features = TS1.apply(lambda row: extract_features(row, sampling_rate=1), axis = 1)\n",
        "TS1_features.columns = [f\"TS1_{col}\" for col in TS1_features.columns]\n",
        "TS1_features"
      ]
    },
    {
      "cell_type": "markdown",
      "metadata": {
        "id": "5kXG_nC2uvG4"
      },
      "source": [
        "### 2.TS2"
      ]
    },
    {
      "cell_type": "code",
      "execution_count": null,
      "metadata": {
        "id": "McyJGhiVusVs"
      },
      "outputs": [],
      "source": [
        "TS2_features = TS2.apply(lambda row: extract_features(row, sampling_rate=1), axis = 1)\n",
        "TS2_features.columns = [f\"TS2_{col}\" for col in TS2_features.columns]\n",
        "TS2_features"
      ]
    },
    {
      "cell_type": "markdown",
      "metadata": {
        "id": "UabK7FTUuz9z"
      },
      "source": [
        "### 3. TS3"
      ]
    },
    {
      "cell_type": "code",
      "execution_count": null,
      "metadata": {
        "id": "p4WZ-LMbuxFj"
      },
      "outputs": [],
      "source": [
        "TS3_features = TS3.apply(lambda row: extract_features(row, sampling_rate=1), axis = 1)\n",
        "TS3_features.columns = [f\"TS3_{col}\" for col in TS3_features.columns]\n",
        "TS3_features"
      ]
    },
    {
      "cell_type": "markdown",
      "metadata": {
        "id": "QTmEdCNwu5S4"
      },
      "source": [
        "### 4.TS4"
      ]
    },
    {
      "cell_type": "code",
      "execution_count": null,
      "metadata": {
        "id": "C9WNrdTgu15T"
      },
      "outputs": [],
      "source": [
        "TS4_features = TS4.apply(lambda row: extract_features(row, sampling_rate=1), axis = 1)\n",
        "TS4_features.columns = [f\"TS4_{col}\" for col in TS4_features.columns]\n",
        "TS4_features"
      ]
    },
    {
      "cell_type": "markdown",
      "metadata": {
        "id": "tsscsLo2u8_2"
      },
      "source": [
        "5. Vibrator Sensor: VS1\n",
        "### VS1"
      ]
    },
    {
      "cell_type": "code",
      "execution_count": null,
      "metadata": {
        "id": "r_qawwOgu7Hp"
      },
      "outputs": [],
      "source": [
        "VS1_features = VS1.apply(lambda row: extract_features(row, sampling_rate=1), axis = 1)\n",
        "VS1_features.columns = [f\"VS1_{col}\" for col in VS1_features.columns]\n",
        "VS1_features"
      ]
    },
    {
      "cell_type": "markdown",
      "metadata": {
        "id": "8gTUlgG1vB3i"
      },
      "source": [
        "6. Efficiency Factor: SE1\n",
        "### SE1"
      ]
    },
    {
      "cell_type": "code",
      "execution_count": null,
      "metadata": {
        "id": "SfyiXRFlu_BJ"
      },
      "outputs": [],
      "source": [
        "SE1_features = SE1.apply(lambda row: extract_features(row, sampling_rate=1), axis = 1)\n",
        "SE1_features.columns = [f\"SE1_{col}\" for col in SE1_features.columns]\n",
        "SE1_features"
      ]
    },
    {
      "cell_type": "markdown",
      "metadata": {
        "id": "IG9btiYEvE9V"
      },
      "source": [
        "7. Virtual Cooling Efficiency Sensor: CE1\n",
        "### CE1"
      ]
    },
    {
      "cell_type": "code",
      "execution_count": null,
      "metadata": {
        "id": "sele_A17vDwH"
      },
      "outputs": [],
      "source": [
        "CE1_features = CE1.apply(lambda row: extract_features(row, sampling_rate=1), axis = 1)\n",
        "CE1_features.columns = [f\"CE1_{col}\" for col in CE1_features.columns]\n",
        "CE1_features"
      ]
    },
    {
      "cell_type": "markdown",
      "metadata": {
        "id": "1X9jBctBvKQu"
      },
      "source": [
        "8. virtual cooling power sensor: CP1\n",
        "### CP1"
      ]
    },
    {
      "cell_type": "code",
      "execution_count": null,
      "metadata": {
        "id": "ZxPWwEuwvIZb"
      },
      "outputs": [],
      "source": [
        "CP1_features = CP1.apply(lambda row: extract_features(row, sampling_rate=1), axis = 1)\n",
        "CP1_features.columns = [f\"CP1_{col}\" for col in CP1_features.columns]\n",
        "CP1_features"
      ]
    },
    {
      "cell_type": "markdown",
      "metadata": {
        "id": "Yr8qY8rIvQFp"
      },
      "source": [
        "We went from 43,680 columns to 17 (sensors)* 12 (features) = 204 columns per dataset, however 204 columns are still a lot, so we need to choose a dimentionality reduction method or feature selection method.\n",
        "\n",
        "In this case we have 96 columns, they're already too much and the columns are already transformed from the original dataset, so in this case we don't care much about interpretability, added to that multiple features can affect our target, and not necessarily one feature would be directly correlated to the target variable, meaning that multiple features can contribute to the target, so PCA (Principal Component Analaysis) is ideal here because tit compresses information further while preserving variance which what we're seeking instead of maintaining an explicit feature-to-target relationship."
      ]
    },
    {
      "cell_type": "code",
      "execution_count": null,
      "metadata": {
        "id": "fGPyS1E1vMNN"
      },
      "outputs": [],
      "source": [
        "PS_list = [PS1_features, PS2_features, PS3_features, PS4_features, PS5_features, PS6_features]\n",
        "PS = pd.concat(PS_list, axis = 1)\n",
        "TS_list = [TS1_features, TS2_features, TS3_features, TS4_features]\n",
        "TS = pd.concat(TS_list, axis = 1)\n",
        "FS_list = [FS1_features, FS2_features]\n",
        "FS = pd.concat(FS_list, axis = 1)\n",
        "\n",
        "\n",
        "\n",
        "print(\"PS: concatenated PSi DataFrames\")\n",
        "display (PS)\n",
        "\n",
        "print(\"TS: concatenated TSi DataFrames\")\n",
        "display (TS)\n",
        "\n",
        "\n",
        "print(\"FS: concatenated FSi DataFrames\")\n",
        "display (FS)"
      ]
    },
    {
      "cell_type": "code",
      "execution_count": null,
      "metadata": {
        "id": "qs1SIvNQvSgH"
      },
      "outputs": [],
      "source": [
        "# concatenate everything into one single df:\n",
        "features_list = [PS, TS, FS , EPS1_features, VS1_features, SE1_features, CE1_features, CP1_features]\n",
        "features_df = pd.concat(features_list, axis = 1)\n",
        "print(\"♦ Displaying the final features_df\")\n",
        "display(features_df)\n",
        "\n",
        "print(f\"♦ List of columns for this DataFrame is: \\n {features_df.columns.tolist()}\")\n",
        "print(f\"♦ Number of sensors in this DataFrame is : {len(features_list)}\")"
      ]
    },
    {
      "cell_type": "code",
      "execution_count": null,
      "metadata": {
        "id": "2tUfFp87vYEh"
      },
      "outputs": [],
      "source": [
        "# Count total missing values\n",
        "print(features_df.isnull().sum().sum())\n",
        "\n",
        "# See which columns have NaNs\n",
        "print(features_df.isnull().sum()[features_df.isnull().sum() > 0])"
      ]
    },
    {
      "cell_type": "markdown",
      "metadata": {
        "id": "2ZVtr9euveLM"
      },
      "source": [
        "Since the columns (PS4_skewness and PS4_kurtosis) each have 1238 missing values, that’s 56% missing — which is far too high to impute reliably (replace NaN values with mean/median/mode), therefore in this case w're going to drop them"
      ]
    },
    {
      "cell_type": "code",
      "execution_count": null,
      "metadata": {
        "id": "pWrH7XorvbbR"
      },
      "outputs": [],
      "source": [
        "features_df =  features_df.drop(columns = [\"PS4_skewness\", \"PS4_kurtosis\" ])\n",
        "print(features_df.isnull().sum().sum())"
      ]
    },
    {
      "cell_type": "markdown",
      "metadata": {
        "id": "7-vkYGcjvi8x"
      },
      "source": [
        "### Building the final DataFrame with features_df + target values"
      ]
    },
    {
      "cell_type": "code",
      "execution_count": null,
      "metadata": {
        "id": "wmeCrpk8vgGP"
      },
      "outputs": [],
      "source": [
        "# target values :\n",
        "df_targets = pd.read_csv(\"/content/drive/MyDrive/bootcamp GMC data science/Projects/final project/final project/predictive-maintenance/datasets/hydsys/profile.txt\", sep = '\\t', header = None)\n",
        "df_targets.columns = ['cooler_condition', 'valve_condition', 'internal_pump_leakage', 'accumulator_pressure', \"stable_flag\"]\n",
        "df_targets"
      ]
    },
    {
      "cell_type": "markdown",
      "metadata": {
        "id": "x6DpBtIvvz59"
      },
      "source": [
        "As we already mentioned the target value chosen in this case is \"Internal Pump Leakage\" out of the other targets :\n",
        "\n",
        "![image.png](data:image/png;base64,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)\n",
        "\n",
        "source: Dataset Overview sheet\n",
        "\n",
        "\n",
        "The target \"Internal Pump Leakage\" has 3 classes:\n",
        "> 0 : no leakage\n",
        "\n",
        "> 1: weak leakage\n",
        "\n",
        "> 2: severe leakage"
      ]
    },
    {
      "cell_type": "code",
      "execution_count": null,
      "metadata": {
        "id": "vVWb2cOevklP"
      },
      "outputs": [],
      "source": [
        "# merging features_df + target_df['internal pump leakage']\n",
        "df_final = pd.concat([features_df, df_targets], axis=1)\n",
        "df_final"
      ]
    },
    {
      "cell_type": "code",
      "execution_count": null,
      "metadata": {
        "id": "BjV6Em_zwCm_"
      },
      "outputs": [],
      "source": [
        "df_final.isna().sum().sum()"
      ]
    },
    {
      "cell_type": "code",
      "execution_count": null,
      "metadata": {
        "id": "bwYZK93kwKcU"
      },
      "outputs": [],
      "source": [
        "num_duplicates = df_final.duplicated().sum()\n",
        "print(f'Number of duplicated rows {num_duplicates}')"
      ]
    },
    {
      "cell_type": "markdown",
      "metadata": {
        "id": "ngVW0jSVYUz-"
      },
      "source": [
        "checking correlation between columns and target values before applying a dimension reduction method"
      ]
    },
    {
      "cell_type": "code",
      "execution_count": null,
      "metadata": {
        "id": "TLwl6nWoyAih"
      },
      "outputs": [],
      "source": [
        "# Compute full correlation matrix\n",
        "corr_matrix = features_df.corr()\n",
        "\n",
        "# Mask the diagonal and lower triangle to avoid duplicates\n",
        "mask = np.triu(np.ones_like(corr_matrix, dtype=bool))\n",
        "\n",
        "# Apply mask and filter for strong correlations\n",
        "strong_corr = corr_matrix.where(mask).stack().reset_index()\n",
        "strong_corr.columns = ['Feature1', 'Feature2', 'Correlation']\n",
        "strong_corr_filtered = strong_corr[strong_corr['Correlation'].abs() >= 0.8]\n",
        "\n",
        "# Display strong correlations\n",
        "print(\"Strong correlations (≥ 0.8 or ≤ -0.8) between features:\")\n",
        "print(strong_corr_filtered.sort_values(by='Correlation', ascending=False))\n",
        "\n",
        "# Optional: Visualize them in a heatmap if not too many\n",
        "if not strong_corr_filtered.empty:\n",
        "    # Get unique features involved\n",
        "    high_corr_features = pd.unique(strong_corr_filtered[['Feature1', 'Feature2']].values.ravel('K'))\n",
        "\n",
        "    # Subset the correlation matrix to just those features\n",
        "    high_corr_matrix = features_df[high_corr_features].corr()\n",
        "\n",
        "    # Plot heatmap\n",
        "    plt.figure(figsize=(12, 10))\n",
        "    sns.heatmap(high_corr_matrix, annot=True, fmt='.2f', cmap='coolwarm', center=0, linewidths=0.5, vmin=-1, vmax=1)\n",
        "    plt.title(\"Heatmap of Highly Correlated Features (|corr| ≥ 0.8)\", fontsize=16)\n",
        "    plt.show()\n",
        "else:\n",
        "    print(\"No features found with correlation ≥ 0.8 or ≤ -0.8.\")\n"
      ]
    },
    {
      "cell_type": "markdown",
      "metadata": {
        "id": "PHSjLxqdRR4n"
      },
      "source": [
        "the correlation matrix heatmap wouldn't show much because there are too many columns to consider. so we'll see how many high correlation pairs there are :"
      ]
    },
    {
      "cell_type": "code",
      "execution_count": null,
      "metadata": {
        "id": "9wWAerxZ8Y78"
      },
      "outputs": [],
      "source": [
        "corr_matrix = features_df.corr().abs()\n",
        "high_corr = (corr_matrix > 0.8) & (corr_matrix < 1.0)\n",
        "print(\"Number of high-correlation pairs:\", high_corr.sum().sum() // 2)\n"
      ]
    },
    {
      "cell_type": "code",
      "execution_count": null,
      "metadata": {
        "id": "MfirMjDt-Huc"
      },
      "outputs": [],
      "source": [
        "# Get upper triangle of correlation matrix\n",
        "upper = corr_matrix.where(np.triu(np.ones(corr_matrix.shape), k=1).astype(bool))\n",
        "\n",
        "# Unstack and sort\n",
        "sorted_pairs = upper.unstack().sort_values(ascending=False).dropna()\n",
        "\n",
        "# Get top 30 most correlated feature pairs\n",
        "top_corr = sorted_pairs[0:30]\n",
        "\n",
        "# Plot as a bar chart\n",
        "plt.figure(figsize=(12, 6))\n",
        "top_corr.plot(kind='bar')\n",
        "plt.title(\"Top 30 Most Highly Correlated Feature Pairs\")\n",
        "plt.ylabel(\"Correlation coefficient\")\n",
        "plt.show()\n"
      ]
    },
    {
      "cell_type": "markdown",
      "metadata": {
        "id": "LOMAASboRly5"
      },
      "source": [
        "too many features are highly correlated"
      ]
    },
    {
      "cell_type": "code",
      "execution_count": null,
      "metadata": {
        "id": "dbaQ3okxYa2_"
      },
      "outputs": [],
      "source": [
        "# Step 1: Select numeric columns and compute correlations with the target\n",
        "target = 'cooler_condition'\n",
        "correlations = df_final.corr()[target]\n",
        "\n",
        "# Step 2: Filter only high correlations (above threshold)\n",
        "threshold = 0.95\n",
        "high_corr = correlations[correlations.abs() >= threshold]\n",
        "high_corr = high_corr.drop(target)  # Drop self-correlation\n",
        "\n",
        "# Step 3: Create a heatmap (or barplot)\n",
        "plt.figure(figsize=(10, len(high_corr) * 0.4))  # Dynamic height based on number of features\n",
        "sns.heatmap(high_corr.to_frame(), annot=True, cmap=\"coolwarm\", center=0)\n",
        "plt.title(f\"Features highly correlated with {target}\", fontsize=16)\n",
        "plt.show()\n"
      ]
    },
    {
      "cell_type": "markdown",
      "metadata": {
        "id": "HdFQZzjgRowg"
      },
      "source": [
        "NB: the target cooler_condition has too many features highly correlated with it.. we might need to treat it individually later"
      ]
    },
    {
      "cell_type": "markdown",
      "metadata": {
        "id": "mgW-qGs_-ry5"
      },
      "source": [
        "High correlation across multiple features leads to multicollinearity, which can make interpretation challenging and introduce redundancy in training. While tree-based models handle this better, minimizing unnecessary correlations improves efficiency and clarity.\n",
        "In this case we should use PCA, as it transforms correlated features into a smaller set of orthogonal components, preserving essential variance while reducing complexity. This ensures a more streamlined, interpretable approach to feature representation.\n"
      ]
    },
    {
      "cell_type": "markdown",
      "metadata": {
        "id": "lwNaaSDvwu3t"
      },
      "source": [
        "in order to apply PCA we first need to\n",
        "1. Standarize the features"
      ]
    },
    {
      "cell_type": "code",
      "execution_count": null,
      "metadata": {
        "id": "A3gfOiEowvMS"
      },
      "outputs": [],
      "source": [
        "X = features_df"
      ]
    },
    {
      "cell_type": "code",
      "execution_count": null,
      "metadata": {
        "id": "gnPizbhMww6b"
      },
      "outputs": [],
      "source": [
        "scaler = StandardScaler()\n",
        "X_scaled = scaler.fit_transform(X)"
      ]
    },
    {
      "cell_type": "markdown",
      "metadata": {
        "id": "rs8Y7_YMw0Pb"
      },
      "source": [
        "Applying PCA"
      ]
    },
    {
      "cell_type": "code",
      "execution_count": null,
      "metadata": {
        "id": "JfuHOstAwyVs"
      },
      "outputs": [],
      "source": [
        "from sklearn.decomposition import PCA\n",
        "\n",
        "pca = PCA(n_components=.95) #choose number of components that explain 95% of the variance\n",
        "X_pca  = pca.fit_transform(X_scaled)"
      ]
    },
    {
      "cell_type": "code",
      "execution_count": null,
      "metadata": {
        "id": "TFIeSoR9w1yY"
      },
      "outputs": [],
      "source": [
        "print(f\"Original features: {X.shape[1]}\")\n",
        "print(f\"Reduced PCA components: {X_pca.shape[1]}\")\n"
      ]
    },
    {
      "cell_type": "markdown",
      "metadata": {
        "id": "LPsCVBulw7QV"
      },
      "source": [
        "We went from 202 columns to 19 columns using PCA\n",
        "this will improve many factors :\n",
        "- make the model simpler later\n",
        "- faster training\n",
        "- lower risk of overfitting\n",
        "- clean interpretability\n",
        "\n",
        "\n",
        "\n",
        "♦ A figure explaining how the pca works :"
      ]
    },
    {
      "cell_type": "code",
      "execution_count": null,
      "metadata": {
        "id": "iPHxQeYTw4zC"
      },
      "outputs": [],
      "source": [
        "import matplotlib.pyplot as plt\n",
        "plt.figure(figsize=(8,4))\n",
        "plt.plot(np.cumsum(pca.explained_variance_ratio_))\n",
        "plt.xlabel(\"Number of Components\")\n",
        "plt.ylabel(\"Cumulative Explained Variance\")\n",
        "plt.title(\"PCA - Variance Explained\")\n",
        "plt.grid()\n",
        "plt.show()\n"
      ]
    },
    {
      "cell_type": "code",
      "execution_count": null,
      "metadata": {
        "id": "qyR3syZuw88i"
      },
      "outputs": [],
      "source": [
        "X_df = pd.DataFrame(X_pca)\n",
        "X_df"
      ]
    },
    {
      "cell_type": "code",
      "execution_count": null,
      "metadata": {
        "id": "R59osvKZ3HH2"
      },
      "outputs": [],
      "source": [
        "# DF with pca features and target values\n",
        "df = pd.concat([X_df, df_targets], axis = 1)\n",
        "df"
      ]
    },
    {
      "cell_type": "markdown",
      "metadata": {
        "id": "OjlgVloH1rgk"
      },
      "source": [
        "# 3. EDA\n",
        "## 1. Correlation matrices\n",
        "we're working with X_df : contains features\n",
        "y contains target value"
      ]
    },
    {
      "cell_type": "code",
      "execution_count": null,
      "metadata": {
        "id": "5WbvYUzmxAUD"
      },
      "outputs": [],
      "source": [
        "import seaborn as sns\n",
        "correlation_matrix = df.corr()\n",
        "\n",
        "plt.figure(figsize=(12,8))\n",
        "sns.heatmap(correlation_matrix, annot = True, cmap =\"coolwarm\", fmt ='.2f', linewidth =.5)\n",
        "plt.title(\"correlation heatmap of df\", fontsize =18)\n",
        "plt.show()"
      ]
    },
    {
      "cell_type": "code",
      "execution_count": null,
      "metadata": {
        "id": "rZhpXW3YBLGv"
      },
      "outputs": [],
      "source": [
        "df.columns"
      ]
    },
    {
      "cell_type": "markdown",
      "metadata": {
        "id": "6kaFabcUiGK6"
      },
      "source": [
        "The column 0 is leaking the target cooler_condition\n",
        "therefore we should drop it"
      ]
    },
    {
      "cell_type": "code",
      "execution_count": null,
      "metadata": {
        "id": "N6wJ84T4iMOK"
      },
      "outputs": [],
      "source": [
        "df = df.drop(columns=[0])"
      ]
    },
    {
      "cell_type": "code",
      "execution_count": null,
      "metadata": {
        "id": "oRk4VF4o1tnq"
      },
      "outputs": [],
      "source": [
        "df.describe().T"
      ]
    },
    {
      "cell_type": "code",
      "execution_count": null,
      "metadata": {
        "id": "DH9QzSd1ktZf"
      },
      "outputs": [],
      "source": [
        "from ydata_profiling import ProfileReport\n",
        "\n",
        "profile  = ProfileReport(df, title = 'Data Profiling Report')\n",
        "profile"
      ]
    },
    {
      "cell_type": "code",
      "execution_count": null,
      "metadata": {
        "id": "HuIiHR3-1vl7"
      },
      "outputs": [],
      "source": [
        "plt.style.use(\"seaborn-v0_8-white\")\n",
        "axes = df.hist(bins = 20, figsize =(20,10), color=\"lightblue\" , edgecolor =\"blue\")\n",
        "\n",
        "for ax in axes.ravel():\n",
        "    ax.set_title(ax.get_title(), fontsize = 20)\n",
        "plt.show()"
      ]
    },
    {
      "cell_type": "markdown",
      "metadata": {
        "id": "4Jzs7zB_1-X4"
      },
      "source": [
        "The dataset seems normal distributed but to be sure we'll run other tests\n",
        "\n",
        "---\n",
        "\n",
        "1. Boxplot : To identify skewness and outliers"
      ]
    },
    {
      "cell_type": "code",
      "execution_count": null,
      "metadata": {
        "id": "Odo4EJX-4shz"
      },
      "outputs": [],
      "source": [
        "for column in df.columns:\n",
        "  sns.boxplot(x = df[column])\n",
        "  plt.title(column)\n",
        "  plt.show()"
      ]
    },
    {
      "cell_type": "code",
      "execution_count": null,
      "metadata": {
        "id": "P-j6aCW7DEif"
      },
      "outputs": [],
      "source": [
        "#Calculate the IQR for each column\n",
        "for column in df.columns :\n",
        "  iqr_values = df.quantile(.75) - df.quantile(.25)\n",
        "  print(f\"{column} : {iqr_values[column]:.2f}\")"
      ]
    },
    {
      "cell_type": "markdown",
      "metadata": {
        "id": "SvsXrxq2KXge"
      },
      "source": [
        "![image.png](data:image/png;base64,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)"
      ]
    },
    {
      "cell_type": "code",
      "execution_count": null,
      "metadata": {
        "id": "4xCQRvrKGSYl"
      },
      "outputs": [],
      "source": [
        "sns.pairplot(df)\n",
        "plt.show()"
      ]
    },
    {
      "cell_type": "code",
      "execution_count": null,
      "metadata": {
        "id": "keBJPD801zmt"
      },
      "outputs": [],
      "source": [
        "# visualize target variables to see if the dataset is balanced y\n",
        "\n",
        "# Loop through each column in df_targets\n",
        "for column in df_targets.columns:\n",
        "    class_counts = df_targets[column].value_counts()\n",
        "\n",
        "    # Create a new figure for each plot\n",
        "    plt.figure(figsize=(6, 4))\n",
        "\n",
        "    class_counts.plot(kind=\"bar\", color=[\"blue\", \"orange\", \"green\"])\n",
        "    plt.xlabel(\"Class Label\")\n",
        "    plt.ylabel(\"Count\")\n",
        "    plt.title(f\"Class Distribution for {column}\")\n",
        "\n",
        "    # Show plot\n",
        "    plt.show()"
      ]
    },
    {
      "cell_type": "markdown",
      "metadata": {
        "id": "zXm5EGvX134v"
      },
      "source": [
        "the dataset is highly imbalanced, therefore we'll use  stratified cross-validation"
      ]
    },
    {
      "cell_type": "markdown",
      "metadata": {
        "id": "sNLZUKpoL93F"
      },
      "source": [
        "# 4. Machine Learning Model"
      ]
    },
    {
      "cell_type": "markdown",
      "metadata": {
        "id": "eb52UGCkMAgQ"
      },
      "source": [
        "In this part we will start by working a simple machine learning model to train the data on, and see the result, we will then use XGboost to compare the results between the 2 models.\n",
        "\n",
        "\n",
        "The simple ML model chosen is Logistic Regression, and because for the target 'internal_pump_leakage\" we only have three classes we'll be working with the multi_class classification: One_vs_Rest"
      ]
    },
    {
      "cell_type": "code",
      "execution_count": null,
      "metadata": {
        "id": "LDuM9XRv11i9"
      },
      "outputs": [],
      "source": [
        "from sklearn.model_selection import train_test_split\n",
        "from sklearn.linear_model import LogisticRegression"
      ]
    },
    {
      "cell_type": "markdown",
      "metadata": {
        "id": "HA0raLamMj2R"
      },
      "source": [
        "- **X_df** : features\n",
        "\n",
        "- **df_targets** : targets\n",
        "---------------\n",
        "\n",
        "- **df** : X_df + df_targets\n",
        "- **y** : we have 4 target values, we'll start by working with one *y = df['internal_pump_leakage']*"
      ]
    },
    {
      "cell_type": "markdown",
      "metadata": {
        "id": "BbH8_1TAfh2r"
      },
      "source": [
        "#### * Working on the first target :'internal_pump_leakage'"
      ]
    },
    {
      "cell_type": "code",
      "execution_count": null,
      "metadata": {
        "id": "Dwr-lPZHgDIO"
      },
      "outputs": [],
      "source": [
        "y = df['internal_pump_leakage']"
      ]
    },
    {
      "cell_type": "code",
      "execution_count": null,
      "metadata": {
        "id": "jYS3yDDsMCjG"
      },
      "outputs": [],
      "source": [
        "# split data into train 80% and test 20% sets\n",
        "X_train, X_test, y_train, y_test = train_test_split(X_df, y , test_size = 0.2, stratify=y , random_state = 42)"
      ]
    },
    {
      "cell_type": "code",
      "execution_count": null,
      "metadata": {
        "id": "sgxG_5BKMG1r"
      },
      "outputs": [],
      "source": [
        "LR = LogisticRegression(max_iter = 1000, multi_class = 'ovr')\n",
        "LR.fit(X_train, y_train)"
      ]
    },
    {
      "cell_type": "code",
      "execution_count": null,
      "metadata": {
        "id": "0MNUpEIKMNR-"
      },
      "outputs": [],
      "source": [
        "y_pred_LR = LR.predict(X_test)"
      ]
    },
    {
      "cell_type": "code",
      "execution_count": null,
      "metadata": {
        "id": "rpASakymM6LT"
      },
      "outputs": [],
      "source": [
        "from sklearn.metrics import accuracy_score, classification_report\n",
        "accuracy_LR = accuracy_score(y_test, y_pred_LR)\n",
        "print(f\"Accuracy from the LR model is {accuracy_LR :.4f}\")\n",
        "print(classification_report(y_test,y_pred_LR))"
      ]
    },
    {
      "cell_type": "markdown",
      "metadata": {
        "id": "IdWgFiPWNGns"
      },
      "source": [
        "We'll take the results of the logistic regression as reference for the more complex ML model XGBoost:"
      ]
    },
    {
      "cell_type": "code",
      "execution_count": null,
      "metadata": {
        "id": "CWyyqvZHNDMZ"
      },
      "outputs": [],
      "source": [
        "import xgboost as xgb\n",
        "from sklearn.model_selection import GridSearchCV, KFold"
      ]
    },
    {
      "cell_type": "code",
      "execution_count": null,
      "metadata": {
        "id": "OTVixdjYNIWh"
      },
      "outputs": [],
      "source": [
        "#initialize XGBoost model\n",
        "xgb_model =xgb.XGBClassifier(use_label_encoder = False, eval_metric = \"mlogloss\")\n",
        "\n",
        "#train the model\n",
        "xgb_model.fit(X_train, y_train)\n",
        "\n",
        "#Make predictions\n",
        "y_pred_xgb = xgb_model.predict(X_test)\n",
        "\n",
        "# Evaluate performance\n",
        "accuracy_xgb = accuracy_score(y_test, y_pred_xgb)\n",
        "print(f\"Accuracy from the XGBoost model is {accuracy_xgb :.4f}\")\n",
        "print(classification_report(y_test, y_pred_xgb))\n"
      ]
    },
    {
      "cell_type": "markdown",
      "metadata": {
        "id": "KH4hzAu_NSta"
      },
      "source": [
        "The XGBoost model presented better accuracy result so we'll be using it for this study.\n",
        "We'll be improving the XGBoost model with hyperparameter tuning\n",
        "### 1. Hyperparameter tuning with GridSearchCV"
      ]
    },
    {
      "cell_type": "code",
      "execution_count": null,
      "metadata": {
        "id": "imomqt-yNLPp"
      },
      "outputs": [],
      "source": [
        "from xgboost import XGBClassifier\n",
        "from sklearn.model_selection import StratifiedKFold , GridSearchCV"
      ]
    },
    {
      "cell_type": "code",
      "execution_count": null,
      "metadata": {
        "id": "TKe0i6UfNVoq"
      },
      "outputs": [],
      "source": [
        "skf = StratifiedKFold (n_splits=5, shuffle=True, random_state=42)"
      ]
    },
    {
      "cell_type": "code",
      "execution_count": null,
      "metadata": {
        "id": "Bl6zBN46NYS4"
      },
      "outputs": [],
      "source": [
        "param_grid = {\n",
        "    \"max_depth\" : [3, 5, 7], #tree depth\n",
        "    \"learning_rate\" : [.01 , .1], # step size for weight updates\n",
        "    \"n_estimators\": [100, 300, 500], #number of boosting rounds\n",
        "    \"subsample\" : [.6, .8, 1.0], #fraction of samples per tree\n",
        "    \"colsample_bytree\" : [.6,.8, 1.0] #fraction of features per tree\n",
        "\n",
        "\n",
        "}"
      ]
    },
    {
      "cell_type": "code",
      "execution_count": null,
      "metadata": {
        "id": "CBz6XyXaNZty"
      },
      "outputs": [],
      "source": [
        "grid_search = GridSearchCV (\n",
        "    estimator = xgb.XGBClassifier(use_label_encoder = False, eval_metric ='mlogloss'),\n",
        "    param_grid = param_grid,\n",
        "    cv = skf,\n",
        "    scoring = 'f1_weighted',\n",
        "    verbose = 1,\n",
        "    n_jobs = -1\n",
        "\n",
        "\n",
        "\n",
        ")"
      ]
    },
    {
      "cell_type": "code",
      "execution_count": null,
      "metadata": {
        "id": "Ly66H_n3NcOP"
      },
      "outputs": [],
      "source": [
        "grid_search.fit(X_train, y_train)"
      ]
    },
    {
      "cell_type": "code",
      "execution_count": null,
      "metadata": {
        "id": "jC-pWedeNdjS"
      },
      "outputs": [],
      "source": [
        "print(\"Best parameters:\", grid_search.best_params_)\n",
        "print(\"Best score:\", grid_search.best_score_)"
      ]
    },
    {
      "cell_type": "markdown",
      "metadata": {
        "id": "TcHyXV7iZ0ca"
      },
      "source": [
        "### 2. Model Evaluation\n",
        "#### a. F1-score"
      ]
    },
    {
      "cell_type": "markdown",
      "metadata": {
        "id": "6D24XUdqZ3Ty"
      },
      "source": [
        "Definitions:\n",
        "- **F1_weighted** : takes class imbalance into account by weighing the contribution of each class based on its support (count of each class), in other terms in ensures that ckasses with more samples have a bigger impact on the final score.\n",
        "\n",
        "![image.png](data:image/png;base64,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)\n",
        "\n",
        "\n",
        "- **F1_macro**: to test fairness: averages F1-scores across classes without considering support - treats all classes equally\n",
        "\n",
        "\n",
        "![image.png](data:image/png;base64,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)\n",
        "\n",
        "So basically:\n",
        "\n",
        "![image.png](data:image/png;base64,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)"
      ]
    },
    {
      "cell_type": "code",
      "execution_count": null,
      "metadata": {
        "id": "-rNLLv0gNfv7"
      },
      "outputs": [],
      "source": [
        "from sklearn.metrics import classification_report, f1_score\n",
        "\n",
        "#Best model from grid search\n",
        "best_model = grid_search.best_estimator_\n",
        "y_pred = best_model.predict(X_test)\n",
        "\n",
        "#classificaiotion report\n",
        "print(classification_report(y_test, y_pred))\n",
        "\n",
        "\n",
        "\n",
        "f1_weighted = f1_score(y_test, y_pred, average='weighted')\n",
        "f1_macro = f1_score(y_test, y_pred, average='macro')\n",
        "\n",
        "print(\"Weighted F1 Score:\", f1_weighted)\n",
        "print(\"Macro F1 Score:\", f1_macro)"
      ]
    },
    {
      "cell_type": "markdown",
      "metadata": {
        "id": "OXj58WRgaF6q"
      },
      "source": [
        "When dealing with imbalanced multiclass classification, relying solely on accuracy can be misleading. Instead, F1-weighted and F1-macro provide a clearer picture of model performance by balancing precision and recall across all classes.\n",
        "The model is performing well, showing strong generalization while maintaining fairness across different categories. Thanks to GridSearchCV, we fine-tuned hyperparameters to enhance stability and ensure the model remains effective across the dataset.\n"
      ]
    },
    {
      "cell_type": "markdown",
      "metadata": {
        "id": "T8rCwnYIaIb3"
      },
      "source": [
        "#### b. Confusion Matrix"
      ]
    },
    {
      "cell_type": "code",
      "execution_count": null,
      "metadata": {
        "id": "zTq3GYZyaEzh"
      },
      "outputs": [],
      "source": [
        "from sklearn.metrics import confusion_matrix, ConfusionMatrixDisplay\n",
        "\n",
        "cm = confusion_matrix(y_test, y_pred)\n",
        "\n",
        "#plot the confision matrix\n",
        "disp = ConfusionMatrixDisplay(confusion_matrix=cm, display_labels = best_model.classes_)\n",
        "fig, ax = plt.subplots(figsize = (6,6))\n",
        "disp.plot(ax=ax , cmap ='Blues', values_format = 'd')\n",
        "plt.title('confusion matrix')\n",
        "plt.grid(False)\n",
        "plt.show()"
      ]
    },
    {
      "cell_type": "markdown",
      "metadata": {
        "id": "vglYEOH5aMfe"
      },
      "source": [
        "from the confusion matrix we can see that the model predicts the y_test value really well, for the three classes and it's fair across all classes"
      ]
    },
    {
      "cell_type": "markdown",
      "metadata": {
        "id": "0UzLQlKeaOYG"
      },
      "source": [
        "# 5. Pipeline\n",
        "Because we have 5 targets we'll create a pipeline to automate the training , testing and tuning of the model for each target."
      ]
    },
    {
      "cell_type": "markdown",
      "metadata": {
        "id": "rL_Ky9ZRiC46"
      },
      "source": [
        "## 1. Define the target variable names"
      ]
    },
    {
      "cell_type": "code",
      "execution_count": null,
      "metadata": {
        "id": "CHQMnp7rgSF7"
      },
      "outputs": [],
      "source": [
        "target_names = [\n",
        "\n",
        "    \"valve_condition\",\n",
        "    \"internal_pump_leakage\",\n",
        "    \"accumulator_pressure\",\n",
        "    \"stable_flag\",\n",
        "    \"cooler_condition\"\n",
        "\n",
        "]\n",
        "target_names"
      ]
    },
    {
      "cell_type": "code",
      "execution_count": null,
      "metadata": {
        "id": "fEPj-3mtghGB"
      },
      "outputs": [],
      "source": [
        "df_targets"
      ]
    },
    {
      "cell_type": "markdown",
      "metadata": {
        "id": "8MYeh4SsiHE0"
      },
      "source": [
        "###  Unique values of the target values"
      ]
    },
    {
      "cell_type": "code",
      "execution_count": null,
      "metadata": {
        "id": "R167vBeqgu9R"
      },
      "outputs": [],
      "source": [
        "# unique values of the target values\n",
        "for column in df_targets.columns:\n",
        "  print(f\"unique values of {column} are {df_targets[column].unique()}\")"
      ]
    },
    {
      "cell_type": "markdown",
      "metadata": {
        "id": "ySLljxH7h-wu"
      },
      "source": [
        "![image.png](data:image/png;base64,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)"
      ]
    },
    {
      "cell_type": "markdown",
      "metadata": {
        "id": "AaNBYNpPnBAW"
      },
      "source": [
        "###  Encode the target values because XGClassifier expects class labels but the targets are numerical"
      ]
    },
    {
      "cell_type": "code",
      "execution_count": null,
      "metadata": {
        "id": "nWsCGFMvm5VC"
      },
      "outputs": [],
      "source": [
        "df['cooler_condition'] = df['cooler_condition'].replace({3: 0, 20: 1, 100: 2 })\n",
        "df['valve_condition'] = df['valve_condition'].replace({73: 0, 80: 1, 90: 2 , 100:3 })\n",
        "df['accumulator_pressure'] = df['accumulator_pressure'].replace({90: 0, 100: 1, 115: 2, 130:3 })\n",
        "\n",
        "print(\"df: \")\n",
        "display (df)\n",
        "\n",
        "\n",
        "df_targets['cooler_condition'] = df_targets['cooler_condition'].replace({3: 0, 20: 1, 100: 2})\n",
        "df_targets['valve_condition'] = df_targets['valve_condition'].replace({73: 0, 80: 1, 90: 2, 100: 3})\n",
        "df_targets['accumulator_pressure'] = df_targets['accumulator_pressure'].replace({90: 0, 100: 1, 115: 2, 130: 3})\n",
        "\n",
        "print(\"df targets\")\n",
        "display(df_targets)"
      ]
    },
    {
      "cell_type": "code",
      "execution_count": null,
      "metadata": {
        "id": "CzHCeaMTaKX0"
      },
      "outputs": [],
      "source": [
        "for target in target_names:\n",
        "    print(f\"\\n === Training model for target : {target}\")\n",
        "    #define the target\n",
        "    y = df[target]\n",
        "\n",
        "    #split the data\n",
        "    X_train, X_test, y_train, y_test = train_test_split(X_df, y, test_size = .2, random_state=42, stratify = y)\n",
        "\n",
        "    #train model\n",
        "    xgb_model = XGBClassifier(use_label_encoder = False, eval_metric =\"mlogloss\")\n",
        "    xgb_model.fit(X_train, y_train)\n",
        "\n",
        "    #predict y_pred\n",
        "    y_pred = xgb_model.predict(X_test)\n",
        "\n",
        "    #classififcaiton report\n",
        "    print(classification_report(y_test, y_pred))\n",
        "\n",
        "    #F1 scores\n",
        "    f1_weighted = f1_score(y_test, y_pred, average = \"weighted\")\n",
        "    f1_macro = f1_score(y_test, y_pred, average = \"macro\")\n",
        "    print(f\"weighted F1 score {f1_weighted:.4f}\")\n",
        "    print(f\"macro f1-score : {f1_macro:.4f}\")\n",
        "\n",
        "    #confusion matrix\n",
        "    cm = confusion_matrix(y_test, y_pred)\n",
        "    disp = ConfusionMatrixDisplay(confusion_matrix=cm, display_labels = xgb_model.classes_)\n",
        "    disp.plot(cmap = \"Blues\")\n",
        "    plt.title(f\"consion matrix for {target}\")\n",
        "    plt.show()"
      ]
    },
    {
      "cell_type": "markdown",
      "metadata": {
        "id": "oSiF6HE0Mdgt"
      },
      "source": [
        "The target cooler_condition had an accuracy of 100% other targets like accumulator_pressure have a low accuracy : 78% so each target should be treated individually and the model and the hyperparameter tuning should be done for each target individually."
      ]
    },
    {
      "cell_type": "code",
      "execution_count": null,
      "metadata": {
        "id": "jV9Rw8CoaR5A"
      },
      "outputs": [],
      "source": [
        "# connect google drive\n",
        "from google.colab import drive\n",
        "drive.mount('/content/drive')"
      ]
    },
    {
      "cell_type": "markdown",
      "metadata": {
        "id": "2VzeP6QQTFCW"
      },
      "source": [
        "DataFrames i'll be using:\n",
        "\n",
        "- features_df : original statistical features\n",
        "- df_targets : df of targets\n",
        "- df_final =  statistical features  + targets\n",
        "\n",
        "- X_df : df with pca features and no targets\n",
        "- df : X_df + df_targets_encoded"
      ]
    },
    {
      "cell_type": "code",
      "execution_count": null,
      "metadata": {
        "id": "i9WMLO1eQ6jW"
      },
      "outputs": [],
      "source": [
        "\"\"\"features_df.to_csv('/content/drive/MyDrive/bootcamp GMC data science/Projects/final project/final project/features_df.csv', index=False)\n",
        "df_targets.to_csv('/content/drive/MyDrive/bootcamp GMC data science/Projects/final project/final project/df_targets.csv', index=False)\n",
        "df_final.to_csv('/content/drive/MyDrive/bootcamp GMC data science/Projects/final project/final project/df_final.csv', index=False)\n",
        "X_df.to_csv('/content/drive/MyDrive/bootcamp GMC data science/Projects/final project/final project/X_df.csv', index=False)\n",
        "df.to_csv('/content/drive/MyDrive/bootcamp GMC data science/Projects/final project/final project/df.csv', index=False)\"\"\""
      ]
    },
    {
      "cell_type": "code",
      "execution_count": null,
      "metadata": {
        "id": "iaBEl5VMTPLW"
      },
      "outputs": [],
      "source": [
        "import joblib\n",
        "\n",
        "# Save the model\n",
        "joblib.dump(xgb_model, \"xgb_internal_pump_leakage.pkl\")\n",
        "\n",
        "# Save the scaler\n",
        "joblib.dump(scaler, \"scaler.pkl\")\n",
        "\n",
        "# Save the PCA transformer\n",
        "joblib.dump(pca, \"pca.pkl\")\n"
      ]
    },
    {
      "cell_type": "code",
      "execution_count": null,
      "metadata": {
        "id": "5FHZjT5ulsmU"
      },
      "outputs": [],
      "source": [
        "from google.colab import files\n",
        "files.download(\"xgb_internal_pump_leakage.pkl\")\n",
        "files.download(\"scaler.pkl\")\n",
        "files.download(\"pca.pkl\")"
      ]
    },
    {
      "cell_type": "code",
      "source": [
        "import joblib as jbl\n",
        "jbl.dump(features_df.columns.tolist(), \"original_columns.pkl\")"
      ],
      "metadata": {
        "id": "bQb8ngl0CjD_"
      },
      "execution_count": null,
      "outputs": []
    },
    {
      "cell_type": "code",
      "source": [
        "jbl.dump(features_df.iloc[0].tolist(), \"default_input.pkl\")"
      ],
      "metadata": {
        "id": "e_DykXo_J4PR"
      },
      "execution_count": null,
      "outputs": []
    },
    {
      "cell_type": "code",
      "source": [
        "files.download(\"original_columns.pkl\")\n",
        "files.download(\"default_input.pkl\")"
      ],
      "metadata": {
        "id": "XPnLWQVdJ6HX"
      },
      "execution_count": null,
      "outputs": []
    },
    {
      "cell_type": "markdown",
      "source": [
        "Because we work with 202 it's not practical for deployment and testing therefore we'll create another dataset using only the mean features"
      ],
      "metadata": {
        "id": "1VhBccg4QNI_"
      }
    },
    {
      "cell_type": "code",
      "source": [
        "mean_feature_cols = [col for col in features_df.columns if col.endswith(\"_mean\")]\n",
        "X_means = features_df[mean_feature_cols]"
      ],
      "metadata": {
        "id": "o8Se-FaRKQch"
      },
      "execution_count": null,
      "outputs": []
    },
    {
      "cell_type": "code",
      "source": [
        "y = df[\"internal_pump_leakage\"]\n"
      ],
      "metadata": {
        "id": "dTD8pSamQZ5a"
      },
      "execution_count": null,
      "outputs": []
    },
    {
      "cell_type": "code",
      "source": [
        "# Split\n",
        "X_train, X_test, y_train, y_test = train_test_split(X_means, y, test_size=0.2, stratify=y, random_state=42)\n",
        "\n",
        "# Scale\n",
        "scaler = StandardScaler()\n",
        "X_train_scaled = scaler.fit_transform(X_train)\n",
        "X_test_scaled = scaler.transform(X_test)\n",
        "\n",
        "# Train\n",
        "model = XGBClassifier(use_label_encoder=False, eval_metric=\"mlogloss\")\n",
        "model.fit(X_train_scaled, y_train)\n",
        "\n",
        "# Save\n",
        "jbl.dump(model, \"xgb_means_model.pkl\")\n",
        "jbl.dump(scaler, \"means_scaler.pkl\")\n",
        "jbl.dump(X_means.columns.tolist(), \"mean_columns.pkl\")\n",
        "jbl.dump(X_means.iloc[0].tolist(), \"default_input_mean.pkl\")  # optional: use as a default form input\n"
      ],
      "metadata": {
        "id": "aDgEUoj9QcZQ"
      },
      "execution_count": null,
      "outputs": []
    },
    {
      "cell_type": "code",
      "source": [
        "files.download(\"xgb_means_model.pkl\")\n",
        "files.download(\"means_scaler.pkl\")\n",
        "files.download(\"mean_columns.pkl\")\n",
        "files.download(\"default_input_mean.pkl\")"
      ],
      "metadata": {
        "id": "hDWxWtztQe5Y"
      },
      "execution_count": null,
      "outputs": []
    },
    {
      "cell_type": "code",
      "source": [
        "print(\"displaying X_means\")\n",
        "display(X_means)\n",
        "print(\"displaying y target\")\n",
        "display(y)"
      ],
      "metadata": {
        "id": "cuJ3jWwcW_h5"
      },
      "execution_count": null,
      "outputs": []
    },
    {
      "cell_type": "code",
      "source": [
        "y.unique()"
      ],
      "metadata": {
        "id": "wvGdk0tdXN99"
      },
      "execution_count": null,
      "outputs": []
    },
    {
      "cell_type": "code",
      "source": [
        "# Step 1: Add target to the means dataframe\n",
        "X_means_with_target = X_means.copy()\n",
        "X_means_with_target[\"internal_pump_leakage\"] = df[\"internal_pump_leakage\"]\n",
        "\n",
        "# Step 2: Compute correlation matrix\n",
        "corr_matrix = X_means_with_target.corr()\n",
        "\n",
        "# Step 3: Extract correlation with the target only\n",
        "corr_with_target = corr_matrix[\"internal_pump_leakage\"].drop(\"internal_pump_leakage\")\n",
        "\n",
        "# Step 4: Print sorted correlation values\n",
        "print(corr_with_target.sort_values(ascending=False))\n",
        "\n",
        "# Step 5: Optional – Heatmap\n",
        "plt.figure(figsize=(10, 6))\n",
        "sns.heatmap(corr_with_target.to_frame(), annot=True, cmap=\"coolwarm\", linewidths=.5)\n",
        "plt.title(\"Correlation between Mean Features and Internal Pump Leakage\")\n",
        "plt.show()\n"
      ],
      "metadata": {
        "id": "zw_wPpqkVp-T"
      },
      "execution_count": null,
      "outputs": []
    },
    {
      "cell_type": "code",
      "source": [
        "# seeing which rows present strong leakage : y ==2\n",
        "filtered_rows_2 = y[y == 2]\n",
        "display(filtered_rows_2)\n",
        "#seing the values for testing in streamlit\n",
        "display(X_means.iloc[210])"
      ],
      "metadata": {
        "id": "-57J-z8qWsls"
      },
      "execution_count": null,
      "outputs": []
    }
  ],
  "metadata": {
    "colab": {
      "provenance": []
    },
    "kernelspec": {
      "display_name": "Python 3",
      "name": "python3"
    },
    "language_info": {
      "name": "python"
    }
  },
  "nbformat": 4,
  "nbformat_minor": 0
}